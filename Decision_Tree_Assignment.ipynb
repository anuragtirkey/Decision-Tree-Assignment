{
  "nbformat": 4,
  "nbformat_minor": 0,
  "metadata": {
    "colab": {
      "provenance": []
    },
    "kernelspec": {
      "name": "python3",
      "display_name": "Python 3"
    },
    "language_info": {
      "name": "python"
    }
  },
  "cells": [
    {
      "cell_type": "markdown",
      "source": [
        "## Decision Tree Assignment\n",
        "\n",
        "\n",
        "### Theory Section\n",
        "\n",
        "1. **What is a Decision Tree, and how does it work?**\n",
        "   \n",
        "   A Decision Tree is a supervised learning algorithm used for classification and regression. It splits data into branches based on feature values, creating a tree-like structure. Each internal node tests an attribute, each branch represents an outcome, and each leaf node holds a class label or output.\n",
        "\n",
        "2. **What are impurity measures in Decision Trees?**\n",
        "   \n",
        "   Impurity measures determine how mixed the classes are in a dataset. Common impurity measures include **Gini Impurity** and **Entropy**. They guide the selection of the best attribute for splitting by quantifying the \"disorder\" in the data.\n",
        "\n",
        "3. **What is the mathematical formula for Gini Impurity?**\n",
        "\n",
        "   $$\n",
        "   Gini = 1 - \\sum_{i=1}^{n} p_i^2\n",
        "   $$\n",
        "\n",
        "   where $p_i$ is the probability of class $i$ in the node.\n",
        "\n",
        "4. **What is the mathematical formula for Entropy?**\n",
        "\n",
        "   $$\n",
        "   Entropy = - \\sum_{i=1}^{n} p_i \\log_2(p_i)\n",
        "   $$\n",
        "\n",
        "   where $p_i$ is the probability of class $i$.\n",
        "\n",
        "5. **What is Information Gain, and how is it used in Decision Trees?**\n",
        "   \n",
        "   Information Gain measures the reduction in entropy after a dataset is split. It helps identify the attribute that offers the most significant improvement in purity.\n",
        "\n",
        "   $$\n",
        "   IG = Entropy(parent) - \\sum_{k} \\frac{|D_k|}{|D|} Entropy(D_k)\n",
        "   $$\n",
        "\n",
        "6. **What is the difference between Gini Impurity and Entropy?**\n",
        "\n",
        "   * **Gini Impurity** is computationally faster and focuses on misclassification.\n",
        "   * **Entropy** is based on information theory and tends to prefer more balanced splits.\n",
        "\n",
        "7. **What is the mathematical explanation behind Decision Trees?**\n",
        "   \n",
        "   Decision Trees recursively split data based on impurity metrics like Gini or Entropy. At each step, the algorithm selects the feature that yields the greatest Information Gain or lowest Gini. Splitting continues until stopping criteria (e.g., max depth or pure nodes) are met.\n",
        "\n",
        "8. **What is Pre-Pruning in Decision Trees?**\n",
        "   \n",
        "   Pre-Pruning involves stopping the tree growth early by setting constraints like max depth, min samples per leaf, or min impurity decrease to prevent overfitting.\n",
        "\n",
        "9. **What is Post-Pruning in Decision Trees?**\n",
        "   \n",
        "   Post-Pruning first builds a full tree and then removes branches that provide little predictive power, typically using cross-validation.\n",
        "\n",
        "10. **What is the difference between Pre-Pruning and Post-Pruning?**\n",
        "\n",
        "* **Pre-Pruning:** Stops tree growth early.\n",
        "* **Post-Pruning:** Trims the tree after full growth to simplify it.\n",
        "\n",
        "11. **What is a Decision Tree Regressor?**\n",
        "    \n",
        "    A Decision Tree Regressor predicts continuous values instead of class labels. It splits data to minimize variance within subsets rather than classification impurity.\n",
        "\n",
        "12. **What are the advantages and disadvantages of Decision Trees?**\n",
        "    \n",
        "    **Advantages:** Easy to understand, requires little data preparation, handles both numerical and categorical data.\n",
        "    **Disadvantages:** Prone to overfitting, unstable with small data changes, can be biased if one class dominates.\n",
        "\n",
        "13. **How does a Decision Tree handle missing values?**\n",
        "    \n",
        "    Some implementations (like in `sklearn`) use surrogate splits or ignore samples with missing data during training. During prediction, missing values may be handled by going down all matching branches.\n",
        "\n",
        "14. **How does a Decision Tree handle categorical features?**\n",
        "    \n",
        "    Categorical features are handled by splitting on each category. Some libraries (like `sklearn`) require manual encoding (e.g., one-hot), while others handle it natively.\n",
        "\n",
        "15. **What are some real-world applications of Decision Trees?**\n",
        "\n",
        "* Medical diagnosis\n",
        "* Credit risk assessment\n",
        "* Customer churn prediction\n",
        "* Fraud detection\n",
        "* Loan approval systems\n"
      ],
      "metadata": {
        "id": "zQ-Xpm6Hiw_T"
      }
    },
    {
      "cell_type": "markdown",
      "source": [
        "### Practical Section"
      ],
      "metadata": {
        "id": "7JtDGjTnjXgV"
      }
    },
    {
      "cell_type": "code",
      "source": [
        "# 16.\tWrite a Python program to train a Decision Tree Classifier on the Iris dataset and print the model accuracy.\n",
        "\n",
        "from sklearn.datasets import load_iris\n",
        "from sklearn.tree import DecisionTreeClassifier\n",
        "from sklearn.model_selection import train_test_split\n",
        "from sklearn.metrics import accuracy_score\n",
        "\n",
        "iris = load_iris()\n",
        "X_train, X_test, y_train, y_test = train_test_split(iris.data, iris.target, test_size=0.3, random_state=42)\n",
        "\n",
        "clf = DecisionTreeClassifier()\n",
        "clf.fit(X_train, y_train)\n",
        "y_pred = clf.predict(X_test)\n",
        "\n",
        "print(\"Model Accuracy:\", accuracy_score(y_test, y_pred))\n"
      ],
      "metadata": {
        "colab": {
          "base_uri": "https://localhost:8080/"
        },
        "id": "8vpt9TGgjaxD",
        "outputId": "6c73b7a1-f312-43dc-f76a-8fd7180cf84e"
      },
      "execution_count": 1,
      "outputs": [
        {
          "output_type": "stream",
          "name": "stdout",
          "text": [
            "Model Accuracy: 1.0\n"
          ]
        }
      ]
    },
    {
      "cell_type": "code",
      "source": [
        "# 17.\tWrite a Python program to train a Decision Tree Classifier using Gini Impurity as the criterion and print the feature importances.\n",
        "\n",
        "clf_gini = DecisionTreeClassifier(criterion='gini')\n",
        "clf_gini.fit(X_train, y_train)\n",
        "\n",
        "print(\"Feature Importances (Gini):\", clf_gini.feature_importances_)\n"
      ],
      "metadata": {
        "colab": {
          "base_uri": "https://localhost:8080/"
        },
        "id": "0NUg6j2mkouo",
        "outputId": "8fe2e5c9-80b4-4eb5-c13b-f92a92a279ef"
      },
      "execution_count": 2,
      "outputs": [
        {
          "output_type": "stream",
          "name": "stdout",
          "text": [
            "Feature Importances (Gini): [0.         0.01911002 0.55727376 0.42361622]\n"
          ]
        }
      ]
    },
    {
      "cell_type": "code",
      "source": [
        "# 18.\tWrite a Python program to train a Decision Tree Classifier using Entropy as the splitting criterion and print the model accuracy.\n",
        "\n",
        "clf_entropy = DecisionTreeClassifier(criterion='entropy')\n",
        "clf_entropy.fit(X_train, y_train)\n",
        "y_pred_entropy = clf_entropy.predict(X_test)\n",
        "\n",
        "print(\"Model Accuracy (Entropy):\", accuracy_score(y_test, y_pred_entropy))"
      ],
      "metadata": {
        "colab": {
          "base_uri": "https://localhost:8080/"
        },
        "id": "2XBRgM3rkzo6",
        "outputId": "81a0494f-644c-41a9-94ee-c2e2d418ac9d"
      },
      "execution_count": 3,
      "outputs": [
        {
          "output_type": "stream",
          "name": "stdout",
          "text": [
            "Model Accuracy (Entropy): 0.9777777777777777\n"
          ]
        }
      ]
    },
    {
      "cell_type": "code",
      "source": [
        "# 19.\tWrite a Python program to train a Decision Tree Regressor on a housing dataset and evaluate using Mean Squared Error (MSE).\n",
        "\n",
        "from sklearn.datasets import fetch_california_housing\n",
        "from sklearn.tree import DecisionTreeRegressor\n",
        "from sklearn.metrics import mean_squared_error\n",
        "\n",
        "housing = fetch_california_housing()\n",
        "X_train, X_test, y_train, y_test = train_test_split(housing.data, housing.target, test_size=0.3, random_state=42)\n",
        "\n",
        "reg = DecisionTreeRegressor()\n",
        "reg.fit(X_train, y_train)\n",
        "y_pred = reg.predict(X_test)\n",
        "\n",
        "print(\"Mean Squared Error:\", mean_squared_error(y_test, y_pred))\n"
      ],
      "metadata": {
        "colab": {
          "base_uri": "https://localhost:8080/"
        },
        "id": "jQVHcQNZk9Sx",
        "outputId": "5cf7251f-be55-4365-8ca9-3bb6dcb5a7c4"
      },
      "execution_count": 4,
      "outputs": [
        {
          "output_type": "stream",
          "name": "stdout",
          "text": [
            "Mean Squared Error: 0.5208021457632267\n"
          ]
        }
      ]
    },
    {
      "cell_type": "code",
      "source": [
        "# 20.\tWrite a Python program to train a Decision Tree Classifier and visualize the tree using graphviz.\n",
        "\n",
        "from sklearn.tree import export_graphviz\n",
        "import graphviz\n",
        "\n",
        "dot_data = export_graphviz(clf, out_file=None,\n",
        "                           feature_names=iris.feature_names,\n",
        "                           class_names=iris.target_names,\n",
        "                           filled=True, rounded=True,\n",
        "                           special_characters=True)\n",
        "graph = graphviz.Source(dot_data)\n",
        "graph.render(\"decision_tree\")\n",
        "graph.view()\n"
      ],
      "metadata": {
        "colab": {
          "base_uri": "https://localhost:8080/",
          "height": 36
        },
        "id": "x_8aDJTJlEMZ",
        "outputId": "14d09fcb-cc32-472b-9ef1-c3317b56a031"
      },
      "execution_count": 5,
      "outputs": [
        {
          "output_type": "execute_result",
          "data": {
            "text/plain": [
              "'decision_tree.pdf'"
            ],
            "application/vnd.google.colaboratory.intrinsic+json": {
              "type": "string"
            }
          },
          "metadata": {},
          "execution_count": 5
        }
      ]
    },
    {
      "cell_type": "code",
      "source": [
        "# 21.\tWrite a Python program to train a Decision Tree Classifier with a maximum depth of 3 and compare its accuracy with a fully grown tree.\n",
        "\n",
        "from sklearn.datasets import load_iris\n",
        "from sklearn.tree import DecisionTreeClassifier\n",
        "from sklearn.model_selection import train_test_split\n",
        "from sklearn.metrics import accuracy_score\n",
        "\n",
        "# Load dataset\n",
        "iris = load_iris()\n",
        "X = iris.data\n",
        "y = iris.target\n",
        "\n",
        "# Split the data\n",
        "X_train, X_test, y_train, y_test = train_test_split(\n",
        "    X, y, test_size=0.3, random_state=42\n",
        ")\n",
        "\n",
        "# Tree with max_depth = 3\n",
        "clf_depth3 = DecisionTreeClassifier(max_depth=3, random_state=42)\n",
        "clf_depth3.fit(X_train, y_train)\n",
        "y_pred_depth3 = clf_depth3.predict(X_test)\n",
        "accuracy_depth3 = accuracy_score(y_test, y_pred_depth3)\n",
        "\n",
        "# Fully grown tree\n",
        "clf_full = DecisionTreeClassifier(random_state=42)\n",
        "clf_full.fit(X_train, y_train)\n",
        "y_pred_full = clf_full.predict(X_test)\n",
        "accuracy_full = accuracy_score(y_test, y_pred_full)\n",
        "\n",
        "# Print results\n",
        "print(\"Accuracy (Max Depth = 3):\", accuracy_depth3)\n",
        "print(\"Accuracy (Fully Grown Tree):\", accuracy_full)\n",
        "\n"
      ],
      "metadata": {
        "colab": {
          "base_uri": "https://localhost:8080/"
        },
        "id": "K7nHavoXlVuH",
        "outputId": "c221e46a-4df6-4956-abba-291b8a5b3054"
      },
      "execution_count": 19,
      "outputs": [
        {
          "output_type": "stream",
          "name": "stdout",
          "text": [
            "Accuracy (Max Depth = 3): 1.0\n",
            "Accuracy (Fully Grown Tree): 1.0\n"
          ]
        }
      ]
    },
    {
      "cell_type": "code",
      "source": [
        "# 22.\tWrite a Python program to train a Decision Tree Classifier using min_samples_split=5 and compare its accuracy with a default tree.\n",
        "\n",
        "from sklearn.datasets import load_iris\n",
        "from sklearn.tree import DecisionTreeClassifier\n",
        "from sklearn.model_selection import train_test_split\n",
        "from sklearn.metrics import accuracy_score\n",
        "\n",
        "# Load the Iris dataset\n",
        "iris = load_iris()\n",
        "X = iris.data\n",
        "y = iris.target\n",
        "\n",
        "# Split into training and testing sets\n",
        "X_train, X_test, y_train, y_test = train_test_split(\n",
        "    X, y, test_size=0.3, random_state=42\n",
        ")\n",
        "\n",
        "# Train with min_samples_split=5\n",
        "clf_split5 = DecisionTreeClassifier(min_samples_split=5, random_state=42)\n",
        "clf_split5.fit(X_train, y_train)\n",
        "y_pred_split5 = clf_split5.predict(X_test)\n",
        "acc_split5 = accuracy_score(y_test, y_pred_split5)\n",
        "\n",
        "# Train default classifier\n",
        "clf_default = DecisionTreeClassifier(random_state=42)\n",
        "clf_default.fit(X_train, y_train)\n",
        "y_pred_default = clf_default.predict(X_test)\n",
        "acc_default = accuracy_score(y_test, y_pred_default)\n",
        "\n",
        "# Print the results\n",
        "print(\"Accuracy with min_samples_split=5:\", acc_split5)\n",
        "print(\"Accuracy with default settings:\", acc_default)\n",
        "\n"
      ],
      "metadata": {
        "colab": {
          "base_uri": "https://localhost:8080/"
        },
        "id": "UCouRN56ljlZ",
        "outputId": "d20a7acb-b379-49b2-b1da-a746b7bca753"
      },
      "execution_count": 20,
      "outputs": [
        {
          "output_type": "stream",
          "name": "stdout",
          "text": [
            "Accuracy with min_samples_split=5: 1.0\n",
            "Accuracy with default settings: 1.0\n"
          ]
        }
      ]
    },
    {
      "cell_type": "code",
      "source": [
        "# 23.\tWrite a Python program to apply feature scaling before training a Decision Tree Classifier and compare its accuracy with unscaled data.\n",
        "\n",
        "from sklearn.datasets import load_iris\n",
        "from sklearn.tree import DecisionTreeClassifier\n",
        "from sklearn.model_selection import train_test_split\n",
        "from sklearn.preprocessing import StandardScaler\n",
        "from sklearn.metrics import accuracy_score\n",
        "\n",
        "# Load dataset\n",
        "iris = load_iris()\n",
        "X = iris.data\n",
        "y = iris.target\n",
        "\n",
        "# Train-test split\n",
        "X_train, X_test, y_train, y_test = train_test_split(\n",
        "    X, y, test_size=0.3, random_state=42\n",
        ")\n",
        "\n",
        "# Scale the features\n",
        "scaler = StandardScaler()\n",
        "X_train_scaled = scaler.fit_transform(X_train)\n",
        "X_test_scaled = scaler.transform(X_test)\n",
        "\n",
        "# Decision Tree on scaled data\n",
        "clf_scaled = DecisionTreeClassifier(random_state=42)\n",
        "clf_scaled.fit(X_train_scaled, y_train)\n",
        "acc_scaled = accuracy_score(y_test, clf_scaled.predict(X_test_scaled))\n",
        "\n",
        "# Decision Tree on unscaled data\n",
        "clf_unscaled = DecisionTreeClassifier(random_state=42)\n",
        "clf_unscaled.fit(X_train, y_train)\n",
        "acc_unscaled = accuracy_score(y_test, clf_unscaled.predict(X_test))\n",
        "\n",
        "# Results\n",
        "print(\"Accuracy with scaling:\", acc_scaled)\n",
        "print(\"Accuracy without scaling:\", acc_unscaled)\n",
        "\n"
      ],
      "metadata": {
        "colab": {
          "base_uri": "https://localhost:8080/"
        },
        "id": "E484pF4cluuo",
        "outputId": "cbef8731-f1f9-4be2-fe1a-79f58e75de75"
      },
      "execution_count": 21,
      "outputs": [
        {
          "output_type": "stream",
          "name": "stdout",
          "text": [
            "Accuracy with scaling: 1.0\n",
            "Accuracy without scaling: 1.0\n"
          ]
        }
      ]
    },
    {
      "cell_type": "code",
      "source": [
        "# 24.\tWrite a Python program to train a Decision Tree Classifier using One-vs-Rest (OvR) strategy for multiclass classification.\n",
        "\n",
        "from sklearn.datasets import load_iris\n",
        "from sklearn.tree import DecisionTreeClassifier\n",
        "from sklearn.multiclass import OneVsRestClassifier\n",
        "from sklearn.model_selection import train_test_split\n",
        "from sklearn.metrics import accuracy_score\n",
        "\n",
        "# Load dataset\n",
        "iris = load_iris()\n",
        "X = iris.data\n",
        "y = iris.target\n",
        "\n",
        "# Train-test split\n",
        "X_train, X_test, y_train, y_test = train_test_split(\n",
        "    X, y, test_size=0.3, random_state=42\n",
        ")\n",
        "\n",
        "# Apply OvR strategy using Decision Tree Classifier\n",
        "ovr_clf = OneVsRestClassifier(DecisionTreeClassifier(random_state=42))\n",
        "ovr_clf.fit(X_train, y_train)\n",
        "\n",
        "# Predict and evaluate\n",
        "y_pred_ovr = ovr_clf.predict(X_test)\n",
        "acc_ovr = accuracy_score(y_test, y_pred_ovr)\n",
        "\n",
        "print(\"Accuracy with One-vs-Rest:\", acc_ovr)\n",
        "\n"
      ],
      "metadata": {
        "colab": {
          "base_uri": "https://localhost:8080/"
        },
        "id": "67Tbcih_l8nf",
        "outputId": "8300a8ea-51b8-46aa-a0fc-90a261e4c891"
      },
      "execution_count": 22,
      "outputs": [
        {
          "output_type": "stream",
          "name": "stdout",
          "text": [
            "Accuracy with One-vs-Rest: 1.0\n"
          ]
        }
      ]
    },
    {
      "cell_type": "code",
      "source": [
        "# 25.\tWrite a Python program to train a Decision Tree Classifier and display the feature importance scores.\n",
        "\n",
        "import pandas as pd\n",
        "\n",
        "features = pd.DataFrame({'Feature': iris.feature_names,\n",
        "                         'Importance': clf.feature_importances_})\n",
        "print(features.sort_values(by='Importance', ascending=False))\n"
      ],
      "metadata": {
        "colab": {
          "base_uri": "https://localhost:8080/"
        },
        "id": "oziePEyOl-uW",
        "outputId": "33c0e1e9-ed27-4cb0-b65b-fc9c68a45203"
      },
      "execution_count": 10,
      "outputs": [
        {
          "output_type": "stream",
          "name": "stdout",
          "text": [
            "             Feature  Importance\n",
            "2  petal length (cm)    0.557274\n",
            "3   petal width (cm)    0.423616\n",
            "0  sepal length (cm)    0.019110\n",
            "1   sepal width (cm)    0.000000\n"
          ]
        }
      ]
    },
    {
      "cell_type": "code",
      "source": [
        "# 26.\tWrite a Python program to train a Decision Tree Regressor with max_depth=5 and compare its performance with an unrestricted tree.\n",
        "\n",
        "reg_depth5 = DecisionTreeRegressor(max_depth=5)\n",
        "reg_depth5.fit(X_train, y_train)\n",
        "print(\"MSE (Depth 5):\", mean_squared_error(y_test, reg_depth5.predict(X_test)))\n",
        "\n",
        "reg_full = DecisionTreeRegressor()\n",
        "reg_full.fit(X_train, y_train)\n",
        "print(\"MSE (Full Tree):\", mean_squared_error(y_test, reg_full.predict(X_test)))\n"
      ],
      "metadata": {
        "colab": {
          "base_uri": "https://localhost:8080/"
        },
        "id": "-weIfsulmFt1",
        "outputId": "8db70a91-6319-4b5b-aca2-35b5aa4c2267"
      },
      "execution_count": 11,
      "outputs": [
        {
          "output_type": "stream",
          "name": "stdout",
          "text": [
            "MSE (Depth 5): 0.5210801561811794\n",
            "MSE (Full Tree): 0.5285088833536983\n"
          ]
        }
      ]
    },
    {
      "cell_type": "code",
      "source": [
        "# 27.\tWrite a Python program to train a Decision Tree Classifier, apply Cost Complexity Pruning (CCP), and visualize its effect on accuracy.\n",
        "\n",
        "from sklearn.datasets import load_iris\n",
        "from sklearn.tree import DecisionTreeClassifier\n",
        "from sklearn.model_selection import train_test_split\n",
        "import matplotlib.pyplot as plt\n",
        "\n",
        "# Load and split data\n",
        "iris = load_iris()\n",
        "X_train, X_test, y_train, y_test = train_test_split(\n",
        "    iris.data, iris.target, test_size=0.3, random_state=42\n",
        ")\n",
        "\n",
        "# Train initial tree to get pruning path\n",
        "clf_base = DecisionTreeClassifier(random_state=42)\n",
        "path = clf_base.cost_complexity_pruning_path(X_train, y_train)\n",
        "\n",
        "ccp_alphas = path.ccp_alphas\n",
        "impurities = path.impurities\n",
        "\n",
        "# Store train and test accuracies for each alpha\n",
        "train_scores = []\n",
        "test_scores = []\n",
        "\n",
        "for ccp_alpha in ccp_alphas:\n",
        "    clf = DecisionTreeClassifier(random_state=42, ccp_alpha=ccp_alpha)\n",
        "    clf.fit(X_train, y_train)\n",
        "    train_scores.append(clf.score(X_train, y_train))\n",
        "    test_scores.append(clf.score(X_test, y_test))\n",
        "\n",
        "# Plotting the effect of pruning\n",
        "plt.figure(figsize=(8, 5))\n",
        "plt.plot(ccp_alphas, train_scores, marker='o', label='Train Accuracy')\n",
        "plt.plot(ccp_alphas, test_scores, marker='s', label='Test Accuracy')\n",
        "plt.xlabel(\"ccp_alpha\")\n",
        "plt.ylabel(\"Accuracy\")\n",
        "plt.title(\"Effect of CCP (Pruning) on Accuracy\")\n",
        "plt.legend()\n",
        "plt.grid(True)\n",
        "plt.tight_layout()\n",
        "plt.show()\n",
        "\n"
      ],
      "metadata": {
        "colab": {
          "base_uri": "https://localhost:8080/",
          "height": 507
        },
        "id": "z5gqiYAzmMhW",
        "outputId": "f2022306-2a9a-4ee9-d8e0-bc8bd3e09d2f"
      },
      "execution_count": 13,
      "outputs": [
        {
          "output_type": "display_data",
          "data": {
            "text/plain": [
              "<Figure size 800x500 with 1 Axes>"
            ],
            "image/png": "[encoded data removed]"
          },
          "metadata": {}
        }
      ]
    },
    {
      "cell_type": "code",
      "source": [
        "# 28.\tWrite a Python program to train a Decision Tree Classifier and evaluate its performance using Precision, Recall, and Fl-Score.\n",
        "\n",
        "from sklearn.metrics import precision_score, recall_score, f1_score\n",
        "\n",
        "y_pred = clf.predict(X_test)\n",
        "print(\"Precision:\", precision_score(y_test, y_pred, average='macro'))\n",
        "print(\"Recall:\", recall_score(y_test, y_pred, average='macro'))\n",
        "print(\"F1 Score:\", f1_score(y_test, y_pred, average='macro'))\n"
      ],
      "metadata": {
        "colab": {
          "base_uri": "https://localhost:8080/"
        },
        "id": "9hIBnvkLmsxd",
        "outputId": "f69af190-5e6b-4eed-fc57-6ac3a2b26647"
      },
      "execution_count": 14,
      "outputs": [
        {
          "output_type": "stream",
          "name": "stdout",
          "text": [
            "Precision: 0.09629629629629628\n",
            "Recall: 0.3333333333333333\n",
            "F1 Score: 0.14942528735632185\n"
          ]
        },
        {
          "output_type": "stream",
          "name": "stderr",
          "text": [
            "/usr/local/lib/python3.11/dist-packages/sklearn/metrics/_classification.py:1565: UndefinedMetricWarning: Precision is ill-defined and being set to 0.0 in labels with no predicted samples. Use `zero_division` parameter to control this behavior.\n",
            "  _warn_prf(average, modifier, f\"{metric.capitalize()} is\", len(result))\n"
          ]
        }
      ]
    },
    {
      "cell_type": "code",
      "source": [
        "# 29.\tWrite a Python program to train a Decision Tree Classifier and visualize the confusion matrix using seaborn.\n",
        "\n",
        "from sklearn.metrics import confusion_matrix\n",
        "import seaborn as sns\n",
        "\n",
        "cm = confusion_matrix(y_test, y_pred)\n",
        "sns.heatmap(cm, annot=True, fmt=\"d\", cmap=\"Blues\")\n",
        "plt.xlabel(\"Predicted\")\n",
        "plt.ylabel(\"Actual\")\n",
        "plt.title(\"Confusion Matrix\")\n",
        "plt.show()\n"
      ],
      "metadata": {
        "colab": {
          "base_uri": "https://localhost:8080/",
          "height": 472
        },
        "id": "DGocwPKvm3T8",
        "outputId": "c6688a45-b4c9-4128-89d0-1c4aef61f294"
      },
      "execution_count": 15,
      "outputs": [
        {
          "output_type": "display_data",
          "data": {
            "text/plain": [
              "<Figure size 640x480 with 2 Axes>"
            ],
            "image/png": "[encoded data removed]"
          },
          "metadata": {}
        }
      ]
    },
    {
      "cell_type": "code",
      "source": [
        "# 30.\tWrite a Python program to train a Decision Tree Classifier and use GridSearchCV to find the optimal values for max_depth and min_samples_split.\n",
        "\n",
        "from sklearn.model_selection import GridSearchCV\n",
        "\n",
        "params = {\n",
        "    'max_depth': [3, 5, 10, None],\n",
        "    'min_samples_split': [2, 5, 10]\n",
        "}\n",
        "\n",
        "grid = GridSearchCV(DecisionTreeClassifier(), params, cv=5)\n",
        "grid.fit(X_train, y_train)\n",
        "\n",
        "print(\"Best Parameters:\", grid.best_params_)\n",
        "print(\"Best Accuracy:\", grid.best_score_)\n"
      ],
      "metadata": {
        "colab": {
          "base_uri": "https://localhost:8080/"
        },
        "id": "0eOrknepm86G",
        "outputId": "7b9cdd8b-fcef-4ecb-f389-e83da57373f4"
      },
      "execution_count": 16,
      "outputs": [
        {
          "output_type": "stream",
          "name": "stdout",
          "text": [
            "Best Parameters: {'max_depth': 5, 'min_samples_split': 10}\n",
            "Best Accuracy: 0.9428571428571428\n"
          ]
        }
      ]
    }
  ]
}